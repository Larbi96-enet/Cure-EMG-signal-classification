{
  "nbformat": 4,
  "nbformat_minor": 0,
  "metadata": {
    "colab": {
      "name": "processdata.ipynb",
      "provenance": [],
      "authorship_tag": "ABX9TyPRXkTrsXqukDXccl/3JLNh",
      "include_colab_link": true
    },
    "kernelspec": {
      "name": "python3",
      "display_name": "Python 3"
    },
    "language_info": {
      "name": "python"
    }
  },
  "cells": [
    {
      "cell_type": "markdown",
      "metadata": {
        "id": "view-in-github",
        "colab_type": "text"
      },
      "source": [
        "<a href=\"https://colab.research.google.com/github/Larbi96-enet/Cure-EMG-signal-classification/blob/main/processdata.ipynb\" target=\"_parent\"><img src=\"https://colab.research.google.com/assets/colab-badge.svg\" alt=\"Open In Colab\"/></a>"
      ]
    },
    {
      "cell_type": "code",
      "metadata": {
        "id": "Sy8dNFlhIvmD"
      },
      "source": [
        "import numpy as np # linear algebra\n",
        "import pandas as pd # data processing, CSV file I/O (e.g. pd.read_csv)\n",
        "import matplotlib.pyplot as plt # charts\n",
        "import scipy as sp\n",
        "from scipy.fft import fft, ifft\n",
        "from scipy import signal\n",
        "import csv\n",
        "from numpy import savetxt\n",
        "import os\n",
        "import glob\n"
      ],
      "execution_count": null,
      "outputs": []
    },
    {
      "cell_type": "code",
      "metadata": {
        "id": "lJCkCf2iL8bF"
      },
      "source": [
        ""
      ],
      "execution_count": null,
      "outputs": []
    },
    {
      "cell_type": "code",
      "metadata": {
        "id": "EqckGoa19Dmm"
      },
      "source": [
        "from google.colab import drive"
      ],
      "execution_count": null,
      "outputs": []
    },
    {
      "cell_type": "code",
      "metadata": {
        "colab": {
          "base_uri": "https://localhost:8080/"
        },
        "id": "QomgEb04L8sl",
        "outputId": "79826a1e-7773-4ee3-f8c7-915af2c9dafd"
      },
      "source": [
        "drive.mount('/content/drive')"
      ],
      "execution_count": null,
      "outputs": [
        {
          "output_type": "stream",
          "text": [
            "Mounted at /content/drive\n"
          ],
          "name": "stdout"
        }
      ]
    },
    {
      "cell_type": "code",
      "metadata": {
        "id": "OVuxOr5VJCY7"
      },
      "source": [
        "def remove_mean(emg,time):\n",
        "    # process EMG signal: remove mean\n",
        "    emg_correctmean = emg - np.mean(emg)\n",
        "    return emg_correctmean\n",
        "\n"
      ],
      "execution_count": null,
      "outputs": []
    },
    {
      "cell_type": "code",
      "metadata": {
        "id": "yw9PPR3BJCba"
      },
      "source": [
        "def emg_filter(emg_correctmean,time):\n",
        "\n",
        "    # create bandpass filter for EMG\n",
        "    high = 20 / (1000 / 2)\n",
        "    low = 450 / (1000 / 2)\n",
        "    b, a = sp.signal.butter(4, [high, low], btype='bandpass')\n",
        "\n",
        "    # process EMG signal: filter EMG\n",
        "    emg_filtered = sp.signal.filtfilt(b, a, emg_correctmean)\n",
        "    return emg_filtered\n"
      ],
      "execution_count": null,
      "outputs": []
    },
    {
      "cell_type": "code",
      "metadata": {
        "id": "JiIjKpJNJCg3"
      },
      "source": [
        "def emg_rectifier(emg_filtered,time):\n",
        "    # process EMG signal: rectify\n",
        "    emg_rectified = abs(emg_filtered)\n",
        "    return emg_rectified\n"
      ],
      "execution_count": null,
      "outputs": []
    },
    {
      "cell_type": "code",
      "metadata": {
        "id": "Gv5mQvnJJCjf"
      },
      "source": [
        "def concatination(indir,outfile):\n",
        "    os.chdir(indir)\n",
        "    file_list = glob.glob(\"*.csv\")\n",
        "    dflist =[]\n",
        "    for csv_file in file_list:\n",
        "        df=pd.read_csv(csv_file)\n",
        "        dflist.append(df)\n",
        "        P_EMG = pd.concat(dflist,axis=1)\n",
        "        P_EMG.to_csv(outfile,index=None)\n"
      ],
      "execution_count": null,
      "outputs": []
    },
    {
      "cell_type": "code",
      "metadata": {
        "id": "5WOdoGieJCl5"
      },
      "source": [
        "def stepwise_action_window_creator(df,window_size,step_size):\n",
        "    dflist = []\n",
        "    index = df.index.values\n",
        "    for i in range(0,len(index),step_size):\n",
        "        if(i > len(index) - window_size):\n",
        "            break;\n",
        "        else:\n",
        "            dflist.append(df.iloc[i:i+window_size])\n",
        "    for i in range(0,len(dflist)):\n",
        "        index = dflist[i].index.values\n",
        "        dflist[i] = dflist[i].assign(time = range(index[-1]+1 - index[0]))\n",
        "        dflist[i] = dflist[i].assign(act_id = [i]*len(dflist[i]))\n",
        "    result = pd.concat(dflist)\n",
        "    return result\n"
      ],
      "execution_count": null,
      "outputs": []
    },
    {
      "cell_type": "code",
      "metadata": {
        "id": "xli2_xhYJCoz"
      },
      "source": [
        "def zero_crossing(temp,threshold):\n",
        "    zc = 0\n",
        "    for i in range(len(temp)-1):\n",
        "        if((temp[i]*temp[i+1]) < 0 and abs(temp[i]-temp[i+1]) >= threshold):\n",
        "            zc += 1\n",
        "    return zc\n"
      ],
      "execution_count": null,
      "outputs": []
    },
    {
      "cell_type": "code",
      "metadata": {
        "id": "OCqXGyGgJCsi"
      },
      "source": [
        "data=pd.read_csv('/content/drive/MyDrive/data/EMG-data.csv')\n",
        "Inputs_signals = data.drop(['time','label','class'],axis=1)\n",
        "time=data.time\n",
        "columns_ls=Inputs_signals.columns\n",
        "Emg_columns=[]\n",
        "processedEMG = pd.DataFrame()\n"
      ],
      "execution_count": null,
      "outputs": []
    },
    {
      "cell_type": "code",
      "metadata": {
        "id": "6yd-P33_JCwb"
      },
      "source": [
        "for i in Inputs_signals:\n",
        "    j= list(columns_ls).index(i)\n",
        "    raw_emg = Inputs_signals[i]\n",
        "    emg_correctmean=remove_mean(raw_emg.values,time)\n",
        "    emg_filtered= emg_filter(emg_correctmean,time)\n",
        "    emg_rectified=emg_rectifier(emg_filtered,time)\n",
        "    column_name = \"channel{}\".format(j)\n",
        "    file_name = \"processedEMG{}.csv\".format(j)\n",
        "    with open(file_name, 'w', newline='') as file:\n",
        "        savetxt(file_name, emg_rectified, delimiter=',', header=column_name)\n"
      ],
      "execution_count": null,
      "outputs": []
    },
    {
      "cell_type": "code",
      "metadata": {
        "id": "X5BgpNNBP7gU"
      },
      "source": [
        ""
      ],
      "execution_count": null,
      "outputs": []
    }
  ]
}